{
 "cells": [
  {
   "cell_type": "markdown",
   "metadata": {},
   "source": [
    "### Setup Code\n",
    "---"
   ]
  },
  {
   "cell_type": "code",
   "execution_count": 1,
   "metadata": {},
   "outputs": [],
   "source": [
    "# Imports\n",
    "import pandas as pd\n",
    "from scipy.stats import norm\n",
    "import numpy as np\n",
    "import matplotlib.pyplot as plt"
   ]
  },
  {
   "cell_type": "code",
   "execution_count": 2,
   "metadata": {},
   "outputs": [],
   "source": [
    "# Functions\n",
    "def date_split(date_str):\n",
    "    '''\n",
    "    Returns a dictionary of pd datetime split by year, month, day\n",
    "    '''\n",
    "    year  = date_str[6:10]\n",
    "    month = date_str[3:5]\n",
    "    day   = date_str[0:2]\n",
    "\n",
    "    return {'year':year, 'month':month, 'day':day}\n",
    "\n",
    "def calculate_age(birth_date):\n",
    "    '''\n",
    "    Calculates age given an input birthdate. \n",
    "    '''\n",
    "#     print(birth_date)\n",
    "    \n",
    "    birth = date_split(birth_date)\n",
    "    curr  = date_split('31/05/2020')\n",
    "\n",
    "    birth_num = int(birth['month'] + birth['day'])\n",
    "    curr_num  = int(curr['month'] + curr['day'])\n",
    "\n",
    "    if birth_num <= curr_num:\n",
    "        age = int(curr['year']) - int(birth['year'])\n",
    "    else:\n",
    "        age = int(curr['year']) - int(birth['year']) - 1\n",
    "\n",
    "    return age"
   ]
  },
  {
   "cell_type": "code",
   "execution_count": 3,
   "metadata": {},
   "outputs": [
    {
     "data": {
      "text/html": [
       "<div>\n",
       "<style scoped>\n",
       "    .dataframe tbody tr th:only-of-type {\n",
       "        vertical-align: middle;\n",
       "    }\n",
       "\n",
       "    .dataframe tbody tr th {\n",
       "        vertical-align: top;\n",
       "    }\n",
       "\n",
       "    .dataframe thead th {\n",
       "        text-align: right;\n",
       "    }\n",
       "</style>\n",
       "<table border=\"1\" class=\"dataframe\">\n",
       "  <thead>\n",
       "    <tr style=\"text-align: right;\">\n",
       "      <th></th>\n",
       "      <th>customer_id</th>\n",
       "      <th>most_recent_trans</th>\n",
       "      <th>dob</th>\n",
       "      <th>state</th>\n",
       "      <th>start_balance</th>\n",
       "      <th>creation_date</th>\n",
       "    </tr>\n",
       "  </thead>\n",
       "  <tbody>\n",
       "  </tbody>\n",
       "</table>\n",
       "</div>"
      ],
      "text/plain": [
       "Empty DataFrame\n",
       "Columns: [customer_id, most_recent_trans, dob, state, start_balance, creation_date]\n",
       "Index: []"
      ]
     },
     "execution_count": 3,
     "metadata": {},
     "output_type": "execute_result"
    }
   ],
   "source": [
    "# Merge the Last Transaction Date date with respective customers. \n",
    "last_path = r'C:\\Users\\MarkHughes\\Documents\\last_dates.csv'\n",
    "last_date = pd.read_csv(last_path)\n",
    "\n",
    "cust_path = r'C:\\Users\\MarkHughes\\JanusBankingChurn\\customers_tm1_e.csv'\n",
    "customers = pd.read_csv(cust_path)\n",
    "\n",
    "last_date.drop(columns='Unnamed: 0', inplace=True)\n",
    "\n",
    "customer_info = pd.merge(last_date, customers, on='customer_id', how='left')\n",
    "\n",
    "customer_info['dob'] = customer_info['dob'].apply(lambda x : str(x))\n",
    "\n",
    "customer_info[customer_info['dob'] == '']"
   ]
  },
  {
   "cell_type": "code",
   "execution_count": 4,
   "metadata": {},
   "outputs": [],
   "source": [
    "customer_info.dropna(inplace=True)"
   ]
  },
  {
   "cell_type": "code",
   "execution_count": 5,
   "metadata": {},
   "outputs": [],
   "source": [
    "customer_info = customer_info.reset_index()"
   ]
  },
  {
   "cell_type": "markdown",
   "metadata": {},
   "source": [
    "### Adding a column for whether or not customer ever churned, and age\n",
    "---"
   ]
  },
  {
   "cell_type": "code",
   "execution_count": 6,
   "metadata": {},
   "outputs": [],
   "source": [
    "# Add Churn column\n",
    "for i in range(len(customer_info)):\n",
    "    if customer_info.loc[i, 'most_recent_trans'][:7] == '2020-05':\n",
    "        customer_info.loc[i, 'churn'] = 0\n",
    "    else:\n",
    "        customer_info.loc[i, 'churn'] = 1"
   ]
  },
  {
   "cell_type": "code",
   "execution_count": 7,
   "metadata": {},
   "outputs": [],
   "source": [
    "# Add Age Column \n",
    "customer_info['Age'] = customer_info['dob'].apply(calculate_age) "
   ]
  },
  {
   "cell_type": "code",
   "execution_count": 8,
   "metadata": {},
   "outputs": [
    {
     "data": {
      "text/html": [
       "<div>\n",
       "<style scoped>\n",
       "    .dataframe tbody tr th:only-of-type {\n",
       "        vertical-align: middle;\n",
       "    }\n",
       "\n",
       "    .dataframe tbody tr th {\n",
       "        vertical-align: top;\n",
       "    }\n",
       "\n",
       "    .dataframe thead th {\n",
       "        text-align: right;\n",
       "    }\n",
       "</style>\n",
       "<table border=\"1\" class=\"dataframe\">\n",
       "  <thead>\n",
       "    <tr style=\"text-align: right;\">\n",
       "      <th></th>\n",
       "      <th>index</th>\n",
       "      <th>customer_id</th>\n",
       "      <th>most_recent_trans</th>\n",
       "      <th>dob</th>\n",
       "      <th>state</th>\n",
       "      <th>start_balance</th>\n",
       "      <th>creation_date</th>\n",
       "      <th>churn</th>\n",
       "      <th>Age</th>\n",
       "    </tr>\n",
       "  </thead>\n",
       "  <tbody>\n",
       "    <tr>\n",
       "      <th>0</th>\n",
       "      <td>0</td>\n",
       "      <td>91</td>\n",
       "      <td>2007-03-30</td>\n",
       "      <td>01/07/1993</td>\n",
       "      <td>California</td>\n",
       "      <td>10180.56</td>\n",
       "      <td>31/01/2007</td>\n",
       "      <td>1.0</td>\n",
       "      <td>26</td>\n",
       "    </tr>\n",
       "    <tr>\n",
       "      <th>1</th>\n",
       "      <td>1</td>\n",
       "      <td>92</td>\n",
       "      <td>2008-03-14</td>\n",
       "      <td>05/12/1985</td>\n",
       "      <td>New York</td>\n",
       "      <td>4757.68</td>\n",
       "      <td>31/01/2007</td>\n",
       "      <td>1.0</td>\n",
       "      <td>34</td>\n",
       "    </tr>\n",
       "    <tr>\n",
       "      <th>2</th>\n",
       "      <td>2</td>\n",
       "      <td>93</td>\n",
       "      <td>2007-11-30</td>\n",
       "      <td>19/11/1987</td>\n",
       "      <td>Minnesota</td>\n",
       "      <td>6796.72</td>\n",
       "      <td>31/01/2007</td>\n",
       "      <td>1.0</td>\n",
       "      <td>32</td>\n",
       "    </tr>\n",
       "    <tr>\n",
       "      <th>3</th>\n",
       "      <td>3</td>\n",
       "      <td>94</td>\n",
       "      <td>2007-10-31</td>\n",
       "      <td>23/03/1981</td>\n",
       "      <td>Minnesota</td>\n",
       "      <td>9870.48</td>\n",
       "      <td>31/01/2007</td>\n",
       "      <td>1.0</td>\n",
       "      <td>39</td>\n",
       "    </tr>\n",
       "    <tr>\n",
       "      <th>4</th>\n",
       "      <td>4</td>\n",
       "      <td>95</td>\n",
       "      <td>2008-08-31</td>\n",
       "      <td>06/04/1970</td>\n",
       "      <td>California</td>\n",
       "      <td>12500.72</td>\n",
       "      <td>31/01/2007</td>\n",
       "      <td>1.0</td>\n",
       "      <td>50</td>\n",
       "    </tr>\n",
       "    <tr>\n",
       "      <th>...</th>\n",
       "      <td>...</td>\n",
       "      <td>...</td>\n",
       "      <td>...</td>\n",
       "      <td>...</td>\n",
       "      <td>...</td>\n",
       "      <td>...</td>\n",
       "      <td>...</td>\n",
       "      <td>...</td>\n",
       "      <td>...</td>\n",
       "    </tr>\n",
       "    <tr>\n",
       "      <th>115998</th>\n",
       "      <td>116005</td>\n",
       "      <td>116102</td>\n",
       "      <td>2020-05-31</td>\n",
       "      <td>02/03/1969</td>\n",
       "      <td>Georgia</td>\n",
       "      <td>3110.96</td>\n",
       "      <td>31/05/2020</td>\n",
       "      <td>0.0</td>\n",
       "      <td>51</td>\n",
       "    </tr>\n",
       "    <tr>\n",
       "      <th>115999</th>\n",
       "      <td>116006</td>\n",
       "      <td>116103</td>\n",
       "      <td>2020-05-31</td>\n",
       "      <td>25/10/1966</td>\n",
       "      <td>New York</td>\n",
       "      <td>12063.92</td>\n",
       "      <td>31/05/2020</td>\n",
       "      <td>0.0</td>\n",
       "      <td>53</td>\n",
       "    </tr>\n",
       "    <tr>\n",
       "      <th>116000</th>\n",
       "      <td>116007</td>\n",
       "      <td>116104</td>\n",
       "      <td>2020-05-31</td>\n",
       "      <td>30/04/1986</td>\n",
       "      <td>Oklahoma</td>\n",
       "      <td>11011.36</td>\n",
       "      <td>31/05/2020</td>\n",
       "      <td>0.0</td>\n",
       "      <td>34</td>\n",
       "    </tr>\n",
       "    <tr>\n",
       "      <th>116001</th>\n",
       "      <td>116008</td>\n",
       "      <td>116105</td>\n",
       "      <td>2020-05-31</td>\n",
       "      <td>25/08/1983</td>\n",
       "      <td>New Mexico</td>\n",
       "      <td>8861.08</td>\n",
       "      <td>31/05/2020</td>\n",
       "      <td>0.0</td>\n",
       "      <td>36</td>\n",
       "    </tr>\n",
       "    <tr>\n",
       "      <th>116002</th>\n",
       "      <td>116009</td>\n",
       "      <td>116106</td>\n",
       "      <td>2020-05-31</td>\n",
       "      <td>06/05/1963</td>\n",
       "      <td>Ohio</td>\n",
       "      <td>201.32</td>\n",
       "      <td>31/05/2020</td>\n",
       "      <td>0.0</td>\n",
       "      <td>57</td>\n",
       "    </tr>\n",
       "  </tbody>\n",
       "</table>\n",
       "<p>116003 rows × 9 columns</p>\n",
       "</div>"
      ],
      "text/plain": [
       "         index  customer_id most_recent_trans         dob       state  \\\n",
       "0            0           91        2007-03-30  01/07/1993  California   \n",
       "1            1           92        2008-03-14  05/12/1985    New York   \n",
       "2            2           93        2007-11-30  19/11/1987   Minnesota   \n",
       "3            3           94        2007-10-31  23/03/1981   Minnesota   \n",
       "4            4           95        2008-08-31  06/04/1970  California   \n",
       "...        ...          ...               ...         ...         ...   \n",
       "115998  116005       116102        2020-05-31  02/03/1969     Georgia   \n",
       "115999  116006       116103        2020-05-31  25/10/1966    New York   \n",
       "116000  116007       116104        2020-05-31  30/04/1986    Oklahoma   \n",
       "116001  116008       116105        2020-05-31  25/08/1983  New Mexico   \n",
       "116002  116009       116106        2020-05-31  06/05/1963        Ohio   \n",
       "\n",
       "        start_balance creation_date  churn  Age  \n",
       "0            10180.56    31/01/2007    1.0   26  \n",
       "1             4757.68    31/01/2007    1.0   34  \n",
       "2             6796.72    31/01/2007    1.0   32  \n",
       "3             9870.48    31/01/2007    1.0   39  \n",
       "4            12500.72    31/01/2007    1.0   50  \n",
       "...               ...           ...    ...  ...  \n",
       "115998        3110.96    31/05/2020    0.0   51  \n",
       "115999       12063.92    31/05/2020    0.0   53  \n",
       "116000       11011.36    31/05/2020    0.0   34  \n",
       "116001        8861.08    31/05/2020    0.0   36  \n",
       "116002         201.32    31/05/2020    0.0   57  \n",
       "\n",
       "[116003 rows x 9 columns]"
      ]
     },
     "execution_count": 8,
     "metadata": {},
     "output_type": "execute_result"
    }
   ],
   "source": [
    "customer_info"
   ]
  },
  {
   "cell_type": "markdown",
   "metadata": {},
   "source": [
    "### Starting Balance Distribution for churners and non churners. \n",
    "---"
   ]
  },
  {
   "cell_type": "code",
   "execution_count": 9,
   "metadata": {},
   "outputs": [
    {
     "data": {
      "image/png": "[encoded data removed]",
      "text/plain": [
       "<Figure size 864x432 with 1 Axes>"
      ]
     },
     "metadata": {
      "needs_background": "light"
     },
     "output_type": "display_data"
    }
   ],
   "source": [
    "# Set boundaries for starting Balance.\n",
    "for i in range(len(customer_info)):\n",
    "    if customer_info.loc[i, 'start_balance'] > 1000000 or customer_info.loc[i, 'start_balance'] < 0:\n",
    "        customer_info.loc[i, 'start_balance'] = 0\n",
    "        \n",
    "# Plot the Starting Balances proportions for churners and non-churners.\n",
    "churned  = customer_info[customer_info['churn'] == 1]\n",
    "no_churn = customer_info[customer_info['churn'] == 0]\n",
    "\n",
    "churn_bal    = churned['start_balance']\n",
    "no_churn_bal = no_churn['start_balance']\n",
    "\n",
    "fig, ax = plt.subplots(figsize=(12,6))\n",
    "ax.hist([churn_bal, no_churn_bal], density=True, bins=20)\n",
    "ax.legend(['churners', 'non_churners'])\n",
    "ax.set_ylabel('Density')\n",
    "ax.set_xlabel('Starting Balance')\n",
    "_ = ax.set_title('Starting Balance for churners and non-churners') "
   ]
  },
  {
   "cell_type": "markdown",
   "metadata": {},
   "source": [
    "### Churn Rate by age\n",
    "---"
   ]
  },
  {
   "cell_type": "code",
   "execution_count": 10,
   "metadata": {},
   "outputs": [
    {
     "data": {
      "image/png": "[encoded data removed]",
      "text/plain": [
       "<Figure size 864x432 with 1 Axes>"
      ]
     },
     "metadata": {
      "needs_background": "light"
     },
     "output_type": "display_data"
    }
   ],
   "source": [
    "age_set_list = list(set(customer_info['Age']))\n",
    "\n",
    "ages_list = []\n",
    "age_rates = []\n",
    "\n",
    "for i in age_set_list: \n",
    "    age_mask = customer_info['Age'] == i\n",
    "    \n",
    "    customers_by_age = customer_info[age_mask]\n",
    "    \n",
    "    churn_mask    = customers_by_age['churn'] == 1\n",
    "    no_churn_mask = customers_by_age['churn'] == 0\n",
    "    \n",
    "    churners     = len(customers_by_age[churn_mask])\n",
    "    non_churners = len(customers_by_age[no_churn_mask])\n",
    "                       \n",
    "    proportion   = churners/(non_churners+churners)\n",
    "    \n",
    "    ages_list.append(i)\n",
    "    age_rates.append(proportion)\n",
    "    \n",
    "fig, ax = plt.subplots(figsize=(12,6))\n",
    "ax.bar(ages_list, age_rates)\n",
    "ax.set_xlabel('Age')\n",
    "ax.set_ylabel('Churn rate')\n",
    "_ = ax.set_title('Churn rate by age')"
   ]
  },
  {
   "cell_type": "code",
   "execution_count": 11,
   "metadata": {},
   "outputs": [
    {
     "data": {
      "text/html": [
       "<div>\n",
       "<style scoped>\n",
       "    .dataframe tbody tr th:only-of-type {\n",
       "        vertical-align: middle;\n",
       "    }\n",
       "\n",
       "    .dataframe tbody tr th {\n",
       "        vertical-align: top;\n",
       "    }\n",
       "\n",
       "    .dataframe thead th {\n",
       "        text-align: right;\n",
       "    }\n",
       "</style>\n",
       "<table border=\"1\" class=\"dataframe\">\n",
       "  <thead>\n",
       "    <tr style=\"text-align: right;\">\n",
       "      <th></th>\n",
       "      <th>index</th>\n",
       "      <th>customer_id</th>\n",
       "      <th>most_recent_trans</th>\n",
       "      <th>dob</th>\n",
       "      <th>state</th>\n",
       "      <th>start_balance</th>\n",
       "      <th>creation_date</th>\n",
       "      <th>churn</th>\n",
       "      <th>Age</th>\n",
       "    </tr>\n",
       "  </thead>\n",
       "  <tbody>\n",
       "    <tr>\n",
       "      <th>0</th>\n",
       "      <td>0</td>\n",
       "      <td>91</td>\n",
       "      <td>2007-03-30</td>\n",
       "      <td>01/07/1993</td>\n",
       "      <td>California</td>\n",
       "      <td>10180.56</td>\n",
       "      <td>31/01/2007</td>\n",
       "      <td>1.0</td>\n",
       "      <td>26</td>\n",
       "    </tr>\n",
       "    <tr>\n",
       "      <th>1</th>\n",
       "      <td>1</td>\n",
       "      <td>92</td>\n",
       "      <td>2008-03-14</td>\n",
       "      <td>05/12/1985</td>\n",
       "      <td>New York</td>\n",
       "      <td>4757.68</td>\n",
       "      <td>31/01/2007</td>\n",
       "      <td>1.0</td>\n",
       "      <td>34</td>\n",
       "    </tr>\n",
       "    <tr>\n",
       "      <th>2</th>\n",
       "      <td>2</td>\n",
       "      <td>93</td>\n",
       "      <td>2007-11-30</td>\n",
       "      <td>19/11/1987</td>\n",
       "      <td>Minnesota</td>\n",
       "      <td>6796.72</td>\n",
       "      <td>31/01/2007</td>\n",
       "      <td>1.0</td>\n",
       "      <td>32</td>\n",
       "    </tr>\n",
       "    <tr>\n",
       "      <th>3</th>\n",
       "      <td>3</td>\n",
       "      <td>94</td>\n",
       "      <td>2007-10-31</td>\n",
       "      <td>23/03/1981</td>\n",
       "      <td>Minnesota</td>\n",
       "      <td>9870.48</td>\n",
       "      <td>31/01/2007</td>\n",
       "      <td>1.0</td>\n",
       "      <td>39</td>\n",
       "    </tr>\n",
       "    <tr>\n",
       "      <th>4</th>\n",
       "      <td>4</td>\n",
       "      <td>95</td>\n",
       "      <td>2008-08-31</td>\n",
       "      <td>06/04/1970</td>\n",
       "      <td>California</td>\n",
       "      <td>12500.72</td>\n",
       "      <td>31/01/2007</td>\n",
       "      <td>1.0</td>\n",
       "      <td>50</td>\n",
       "    </tr>\n",
       "    <tr>\n",
       "      <th>...</th>\n",
       "      <td>...</td>\n",
       "      <td>...</td>\n",
       "      <td>...</td>\n",
       "      <td>...</td>\n",
       "      <td>...</td>\n",
       "      <td>...</td>\n",
       "      <td>...</td>\n",
       "      <td>...</td>\n",
       "      <td>...</td>\n",
       "    </tr>\n",
       "    <tr>\n",
       "      <th>115998</th>\n",
       "      <td>116005</td>\n",
       "      <td>116102</td>\n",
       "      <td>2020-05-31</td>\n",
       "      <td>02/03/1969</td>\n",
       "      <td>Georgia</td>\n",
       "      <td>3110.96</td>\n",
       "      <td>31/05/2020</td>\n",
       "      <td>0.0</td>\n",
       "      <td>51</td>\n",
       "    </tr>\n",
       "    <tr>\n",
       "      <th>115999</th>\n",
       "      <td>116006</td>\n",
       "      <td>116103</td>\n",
       "      <td>2020-05-31</td>\n",
       "      <td>25/10/1966</td>\n",
       "      <td>New York</td>\n",
       "      <td>12063.92</td>\n",
       "      <td>31/05/2020</td>\n",
       "      <td>0.0</td>\n",
       "      <td>53</td>\n",
       "    </tr>\n",
       "    <tr>\n",
       "      <th>116000</th>\n",
       "      <td>116007</td>\n",
       "      <td>116104</td>\n",
       "      <td>2020-05-31</td>\n",
       "      <td>30/04/1986</td>\n",
       "      <td>Oklahoma</td>\n",
       "      <td>11011.36</td>\n",
       "      <td>31/05/2020</td>\n",
       "      <td>0.0</td>\n",
       "      <td>34</td>\n",
       "    </tr>\n",
       "    <tr>\n",
       "      <th>116001</th>\n",
       "      <td>116008</td>\n",
       "      <td>116105</td>\n",
       "      <td>2020-05-31</td>\n",
       "      <td>25/08/1983</td>\n",
       "      <td>New Mexico</td>\n",
       "      <td>8861.08</td>\n",
       "      <td>31/05/2020</td>\n",
       "      <td>0.0</td>\n",
       "      <td>36</td>\n",
       "    </tr>\n",
       "    <tr>\n",
       "      <th>116002</th>\n",
       "      <td>116009</td>\n",
       "      <td>116106</td>\n",
       "      <td>2020-05-31</td>\n",
       "      <td>06/05/1963</td>\n",
       "      <td>Ohio</td>\n",
       "      <td>201.32</td>\n",
       "      <td>31/05/2020</td>\n",
       "      <td>0.0</td>\n",
       "      <td>57</td>\n",
       "    </tr>\n",
       "  </tbody>\n",
       "</table>\n",
       "<p>116003 rows × 9 columns</p>\n",
       "</div>"
      ],
      "text/plain": [
       "         index  customer_id most_recent_trans         dob       state  \\\n",
       "0            0           91        2007-03-30  01/07/1993  California   \n",
       "1            1           92        2008-03-14  05/12/1985    New York   \n",
       "2            2           93        2007-11-30  19/11/1987   Minnesota   \n",
       "3            3           94        2007-10-31  23/03/1981   Minnesota   \n",
       "4            4           95        2008-08-31  06/04/1970  California   \n",
       "...        ...          ...               ...         ...         ...   \n",
       "115998  116005       116102        2020-05-31  02/03/1969     Georgia   \n",
       "115999  116006       116103        2020-05-31  25/10/1966    New York   \n",
       "116000  116007       116104        2020-05-31  30/04/1986    Oklahoma   \n",
       "116001  116008       116105        2020-05-31  25/08/1983  New Mexico   \n",
       "116002  116009       116106        2020-05-31  06/05/1963        Ohio   \n",
       "\n",
       "        start_balance creation_date  churn  Age  \n",
       "0            10180.56    31/01/2007    1.0   26  \n",
       "1             4757.68    31/01/2007    1.0   34  \n",
       "2             6796.72    31/01/2007    1.0   32  \n",
       "3             9870.48    31/01/2007    1.0   39  \n",
       "4            12500.72    31/01/2007    1.0   50  \n",
       "...               ...           ...    ...  ...  \n",
       "115998        3110.96    31/05/2020    0.0   51  \n",
       "115999       12063.92    31/05/2020    0.0   53  \n",
       "116000       11011.36    31/05/2020    0.0   34  \n",
       "116001        8861.08    31/05/2020    0.0   36  \n",
       "116002         201.32    31/05/2020    0.0   57  \n",
       "\n",
       "[116003 rows x 9 columns]"
      ]
     },
     "execution_count": 11,
     "metadata": {},
     "output_type": "execute_result"
    }
   ],
   "source": [
    "customer_info"
   ]
  },
  {
   "cell_type": "code",
   "execution_count": 12,
   "metadata": {},
   "outputs": [
    {
     "data": {
      "image/png": "[encoded data removed]",
      "text/plain": [
       "<Figure size 864x432 with 1 Axes>"
      ]
     },
     "metadata": {
      "needs_background": "light"
     },
     "output_type": "display_data"
    }
   ],
   "source": [
    "# PLot the proportion by age group\n",
    "\n",
    "fig, ax = plt.subplots(figsize=(12,6))\n",
    "ax.hist(customer_info['Age'], bins=30, density=True, color='green', ec='black')\n",
    "ax.set_ylabel('Density')\n",
    "ax.set_xlabel('Age')\n",
    "_ = ax.set_title('Proportion of ages amongst customers')"
   ]
  },
  {
   "cell_type": "code",
   "execution_count": 13,
   "metadata": {},
   "outputs": [
    {
     "data": {
      "image/png": "[encoded data removed]",
      "text/plain": [
       "<Figure size 864x432 with 1 Axes>"
      ]
     },
     "metadata": {
      "needs_background": "light"
     },
     "output_type": "display_data"
    }
   ],
   "source": [
    "# PLot the proportion by starting balance\n",
    "\n",
    "fig, ax = plt.subplots(figsize=(12,6))\n",
    "ax.hist(customer_info['start_balance'], bins=40, density=True, color='blue', ec='black')\n",
    "ax.set_xlabel('Starting Balance')\n",
    "ax.set_ylabel('Density')\n",
    "_ = ax.set_title('Proportion of starting balances amongst customers')"
   ]
  },
  {
   "cell_type": "code",
   "execution_count": 14,
   "metadata": {},
   "outputs": [],
   "source": [
    "customer_info['creation_date'] = customer_info['creation_date'].apply(lambda x: x[6:10])"
   ]
  },
  {
   "cell_type": "code",
   "execution_count": 15,
   "metadata": {},
   "outputs": [
    {
     "data": {
      "image/png": "[encoded data removed]",
      "text/plain": [
       "<Figure size 864x432 with 1 Axes>"
      ]
     },
     "metadata": {
      "needs_background": "light"
     },
     "output_type": "display_data"
    }
   ],
   "source": [
    "dates = []\n",
    "datec = []\n",
    "\n",
    "years = sorted(set(customer_info['creation_date']), reverse=False)\n",
    "\n",
    "for i in years:\n",
    "    mask = customer_info['creation_date'] == i\n",
    "    \n",
    "    dates.append(i)\n",
    "    datec.append(len(customer_info[mask]))\n",
    "\n",
    "fig, ax = plt.subplots(figsize=(12,6))\n",
    "ax.bar(dates, datec, color='orange', ec='black')\n",
    "ax.set_xlabel('Year')\n",
    "ax.set_ylabel('Number of accounts created')\n",
    "_ = ax.set_title('Proportion of Creation Dates amongst customers')"
   ]
  },
  {
   "cell_type": "code",
   "execution_count": 28,
   "metadata": {},
   "outputs": [
    {
     "data": {
      "text/plain": [
       "{'California': 39512223,\n",
       " 'Texas': 28995881,\n",
       " 'Florida': 21477737,\n",
       " 'New York': 19453561,\n",
       " 'Illinois': 12671821,\n",
       " 'Pennsylvania': 12801989,\n",
       " 'Ohio': 11689100,\n",
       " 'Georgia': 10617423,\n",
       " 'North Carolina': 10488084,\n",
       " 'Michigan': 9986857,\n",
       " 'New Jersey': 8882190,\n",
       " 'Virginia': 8535519,\n",
       " 'Washington': 7614893,\n",
       " 'Arizona': 7278717,\n",
       " 'Massachusetts': 6949503,\n",
       " 'Tennessee': 6833174,\n",
       " 'Indiana': 6732219,\n",
       " 'Missouri': 6137428,\n",
       " 'Maryland': 6045680,\n",
       " 'Wisconsin': 5822434,\n",
       " 'Colorado': 5758736,\n",
       " 'Minnesota': 5639632,\n",
       " 'South Carolina': 5148714,\n",
       " 'Alabama': 4903185,\n",
       " 'Louisiana': 4648794,\n",
       " 'Kentucky': 4467673,\n",
       " 'Oregon': 4217737,\n",
       " 'Oklahoma': 3956971,\n",
       " 'Connecticut': 3565287,\n",
       " 'Utah': 3205958,\n",
       " 'Iowa': 3155070,\n",
       " 'Nevada': 3080156,\n",
       " 'Arkansas': 3017825,\n",
       " 'Mississippi': 2976149,\n",
       " 'Kansas': 2913314,\n",
       " 'New Mexico': 2096829,\n",
       " 'Nebraska': 1934408,\n",
       " 'West Virginia': 1792147,\n",
       " 'Idaho': 1787065,\n",
       " 'Hawaii': 1415872,\n",
       " 'New Hampshire': 1359711,\n",
       " 'Maine': 1344212,\n",
       " 'Montana': 1068778,\n",
       " 'Rhode Island': 1059361,\n",
       " 'Delaware': 973764,\n",
       " 'South Dakota': 884659,\n",
       " 'North Dakota': 762062,\n",
       " 'Alaska': 731545,\n",
       " 'DC': 705749,\n",
       " 'Vermont': 623989,\n",
       " 'Wyoming': 578759}"
      ]
     },
     "execution_count": 28,
     "metadata": {},
     "output_type": "execute_result"
    }
   ],
   "source": [
    "state_df = pd.read_csv('state_pop.csv')\n",
    "\n",
    "pop_by_state = dict(list(zip(state_df['state'], state_df['value'])))\n",
    "\n",
    "pop_by_state"
   ]
  },
  {
   "cell_type": "code",
   "execution_count": 48,
   "metadata": {},
   "outputs": [
    {
     "data": {
      "image/png": "[encoded data removed]",
      "text/plain": [
       "<Figure size 1152x1008 with 1 Axes>"
      ]
     },
     "metadata": {
      "needs_background": "light"
     },
     "output_type": "display_data"
    }
   ],
   "source": [
    "# PLot the proportion by State\n",
    "\n",
    "import random\n",
    "\n",
    "states = []\n",
    "statec = []\n",
    "\n",
    "stateset = list(set(customer_info['state']))\n",
    "                \n",
    "stateset.remove('CALIFORNIA')               \n",
    "\n",
    "for i in stateset:\n",
    "    mask = customer_info['state'] == i\n",
    "    \n",
    "    states.append(i)\n",
    "    statec.append(len(customer_info[mask])/int(pop_by_state[i]))\n",
    "\n",
    "# data = pd.DataFrame(list(zip(states, statec)), columns=['a', 'b'])\n",
    "# data = data.sort_values('b')\n",
    "# states = data['a']\n",
    "# statec = data['b']\n",
    "\n",
    "CB91_Grad_BP = ['#2cbdfe', '#2fb9fc', '#33b4fa', '#36b0f8',\n",
    "                '#3aacf6', '#3da8f4', '#41a3f2', '#449ff0',\n",
    "                '#489bee', '#4b97ec', '#4f92ea', '#528ee8',\n",
    "                '#568ae6', '#5986e4', '#5c81e2', '#607de0',\n",
    "                '#6379de', '#6775dc', '#6a70da', '#6e6cd8',\n",
    "                '#7168d7', '#7564d5', '#785fd3', '#7c5bd1',\n",
    "                '#7f57cf', '#8353cd', '#864ecb', '#894ac9',\n",
    "                '#8d46c7', '#9042c5', '#943dc3', '#9739c1',\n",
    "                '#9b35bf', '#9e31bd', '#a22cbb', '#a528b9',\n",
    "                '#a924b7', '#ac20b5', '#b01bb3', '#b317b1',\n",
    "                '#9b35bf', '#9e31bd', '#a22cbb', '#a528b9',\n",
    "                '#8d46c7', '#9042c5', '#943dc3', '#9739c1',\n",
    "                '#7f57cf', '#8353cd', '#864ecb', '#894ac9']\n",
    "# number_of_colors = len(states)\n",
    "\n",
    "# color = [\"#\"+''.join([random.choice('0123456789ABCDEF') for j in range(6)])\n",
    "#              for i in range(number_of_colors)]\n",
    "\n",
    "# colors = dict(zip(states, color))\n",
    "# labels = list(colors.keys())\n",
    "\n",
    "# handles = [plt.Rectangle((0,0),1,1, color=colors[label]) for label in labels]\n",
    "\n",
    "fig, ax = plt.subplots(figsize=(16,14))\n",
    "ax.barh(states, statec, color=CB91_Grad_BP)\n",
    "ax.set_xlabel('Proportion of customers')\n",
    "_ = ax.set_title('Customer Proportion by state')\n",
    "# plt.tight_layout()\n",
    "# ax.legend(handles, labels, title='States by colour \\n\\n')\n",
    "# ax.set_yticks([])"
   ]
  }
 ],
 "metadata": {
  "kernelspec": {
   "display_name": "Python 3",
   "language": "python",
   "name": "python3"
  },
  "language_info": {
   "codemirror_mode": {
    "name": "ipython",
    "version": 3
   },
   "file_extension": ".py",
   "mimetype": "text/x-python",
   "name": "python",
   "nbconvert_exporter": "python",
   "pygments_lexer": "ipython3",
   "version": "3.8.5"
  }
 },
 "nbformat": 4,
 "nbformat_minor": 4
}
